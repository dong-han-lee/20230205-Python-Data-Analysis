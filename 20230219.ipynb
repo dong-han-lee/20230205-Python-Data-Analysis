{
  "nbformat": 4,
  "nbformat_minor": 0,
  "metadata": {
    "colab": {
      "provenance": [],
      "authorship_tag": "ABX9TyPtSr+qRnmlPDLqopS+izZj",
      "include_colab_link": true
    },
    "kernelspec": {
      "name": "python3",
      "display_name": "Python 3"
    },
    "language_info": {
      "name": "python"
    }
  },
  "cells": [
    {
      "cell_type": "markdown",
      "metadata": {
        "id": "view-in-github",
        "colab_type": "text"
      },
      "source": [
        "<a href=\"https://colab.research.google.com/github/dong-han-lee/20230205-Python-DataAnalysis/blob/main/20230219.ipynb\" target=\"_parent\"><img src=\"https://colab.research.google.com/assets/colab-badge.svg\" alt=\"Open In Colab\"/></a>"
      ]
    },
    {
      "cell_type": "markdown",
      "source": [
        "### Q 如何使用%，%是取餘數(microbit示範)\n",
        "參考: https://python.microbit.org/v/3\n",
        "\n",
        "嘗試執行底下程式，按按鈕A觀察結果！"
      ],
      "metadata": {
        "id": "ABGVKY5dUBZF"
      }
    },
    {
      "cell_type": "code",
      "execution_count": null,
      "metadata": {
        "id": "Fklm1dyWRzon"
      },
      "outputs": [],
      "source": [
        "# Imports go at the top\n",
        "from microbit import *\n",
        "\n",
        "display.clear()\n",
        "\n",
        "x = 0\n",
        "y = 0\n",
        "display.set_pixel(x,y,9)\n",
        "\n",
        "while True:\n",
        "    if button_a.was_pressed():\n",
        "        x = x + 1\n",
        "        y = y + 1\n",
        "        display.clear()\n",
        "        display.set_pixel(x%5,y%5,9)"
      ]
    },
    {
      "cell_type": "markdown",
      "source": [
        "# 20230219 筆記"
      ],
      "metadata": {
        "id": "bBLwPLyoUSzl"
      }
    },
    {
      "cell_type": "markdown",
      "source": [
        "# 複習一下request\n",
        "\n",
        "從政府資料開放平台抓取資料: "
      ],
      "metadata": {
        "id": "QZyREgnJVS-U"
      }
    },
    {
      "cell_type": "markdown",
      "source": [
        "### 練習\n",
        "\n",
        "抓取'年度國內主要金融指標下來做分析'\n",
        "\n",
        "https://apiservice.mol.gov.tw/OdService/download/A17000000J-030244-dpp"
      ],
      "metadata": {
        "id": "FP_CbR8WXDDM"
      }
    },
    {
      "cell_type": "code",
      "source": [
        "import requests"
      ],
      "metadata": {
        "id": "tkN87jdCXgSM"
      },
      "execution_count": 7,
      "outputs": []
    },
    {
      "cell_type": "code",
      "source": [
        "url = \"https://apiservice.mol.gov.tw/OdService/download/A17000000J-030244-dpp\""
      ],
      "metadata": {
        "id": "0SB-uRUlUWY0"
      },
      "execution_count": 4,
      "outputs": []
    },
    {
      "cell_type": "code",
      "source": [
        "data = requests.get(url).json()"
      ],
      "metadata": {
        "id": "qANGu3QBXQC1"
      },
      "execution_count": 9,
      "outputs": []
    },
    {
      "cell_type": "code",
      "source": [
        "data"
      ],
      "metadata": {
        "id": "VIoaFsFlX9fF"
      },
      "execution_count": null,
      "outputs": []
    },
    {
      "cell_type": "code",
      "source": [
        "# 檢視data的長度\n",
        "len(data) "
      ],
      "metadata": {
        "colab": {
          "base_uri": "https://localhost:8080/"
        },
        "id": "KKU1BNTPZQ8F",
        "outputId": "caf84654-08eb-4e29-f7e5-0f8d09d8b597"
      },
      "execution_count": 13,
      "outputs": [
        {
          "output_type": "execute_result",
          "data": {
            "text/plain": [
              "29"
            ]
          },
          "metadata": {},
          "execution_count": 13
        }
      ]
    },
    {
      "cell_type": "code",
      "source": [
        "type(data)\n",
        "# 檢視data的資料型態"
      ],
      "metadata": {
        "colab": {
          "base_uri": "https://localhost:8080/"
        },
        "id": "iN4XEFITZZEi",
        "outputId": "90370c49-4997-4d28-dc53-f0d1d1b36336"
      },
      "execution_count": 15,
      "outputs": [
        {
          "output_type": "execute_result",
          "data": {
            "text/plain": [
              "list"
            ]
          },
          "metadata": {},
          "execution_count": 15
        }
      ]
    },
    {
      "cell_type": "code",
      "source": [
        "# 檢視一下data的第一筆資料\n",
        "data[0]"
      ],
      "metadata": {
        "colab": {
          "base_uri": "https://localhost:8080/"
        },
        "id": "gWFs27HUZizn",
        "outputId": "7c5695ff-c132-4daa-bdec-9fb6b6ed7729"
      },
      "execution_count": 16,
      "outputs": [
        {
          "output_type": "execute_result",
          "data": {
            "text/plain": [
              "{'年度': '1994',\n",
              " '貨幣供給額期底年增率-M1B': '12.23',\n",
              " '貨幣供給額期底年增率-M2': '15.07',\n",
              " '金價（美元／英兩）-國際現貨黃金價格': '382.50',\n",
              " '金價（美元／英兩）-台北': '385.07',\n",
              " '匯率（月底）-（新台幣／美元）': '26.240',\n",
              " '外匯存底（億美元）': '924.54',\n",
              " '利率（年息%）-金融業拆款': '6.130',\n",
              " '利率（年息%）-商業本票31-90天期': '6.77',\n",
              " '利率（年息%）-中央銀行重貼現率': '5.500',\n",
              " '利率（年息%）-債券市場（十年期中央政府公債）': '7.24',\n",
              " '證券（集中市場）-發行量加權股價指數（月底）': '7124.66',\n",
              " '證券（集中市場）-成交值（億元）': '194766'}"
            ]
          },
          "metadata": {},
          "execution_count": 16
        }
      ]
    },
    {
      "cell_type": "markdown",
      "source": [
        "## 方法一\n",
        "\n",
        "data是一個list"
      ],
      "metadata": {
        "id": "fW6CRMGReNbP"
      }
    },
    {
      "cell_type": "code",
      "source": [
        "# 列出各年度的M2貨幣供給額\n",
        "for i in data:\n",
        "  print(i['年度'],\"==>\",i['貨幣供給額期底年增率-M2'])"
      ],
      "metadata": {
        "id": "XbV74GVpYnf2"
      },
      "execution_count": null,
      "outputs": []
    },
    {
      "cell_type": "markdown",
      "source": [
        "## 方法二"
      ],
      "metadata": {
        "id": "v_INyUVzd0If"
      }
    },
    {
      "cell_type": "code",
      "source": [
        "for i in range(len(data)):\n",
        "  print(data[i]['年度'], \"==>\", data[i]['貨幣供給額期底年增率-M2'])"
      ],
      "metadata": {
        "id": "kPYNFXQ5d3e1"
      },
      "execution_count": null,
      "outputs": []
    }
  ]
}