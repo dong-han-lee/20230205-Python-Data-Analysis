{
  "nbformat": 4,
  "nbformat_minor": 0,
  "metadata": {
    "colab": {
      "provenance": [],
      "authorship_tag": "ABX9TyMtvgvBiQl/nuPaywm+1IQB",
      "include_colab_link": true
    },
    "kernelspec": {
      "name": "python3",
      "display_name": "Python 3"
    },
    "language_info": {
      "name": "python"
    }
  },
  "cells": [
    {
      "cell_type": "markdown",
      "metadata": {
        "id": "view-in-github",
        "colab_type": "text"
      },
      "source": [
        "<a href=\"https://colab.research.google.com/github/dong-han-lee/20230205-Python-DataAnalysis/blob/main/20230211.ipynb\" target=\"_parent\"><img src=\"https://colab.research.google.com/assets/colab-badge.svg\" alt=\"Open In Colab\"/></a>"
      ]
    },
    {
      "cell_type": "markdown",
      "source": [
        "# 20230211 上課筆記"
      ],
      "metadata": {
        "id": "7r4rxqEWMcd5"
      }
    },
    {
      "cell_type": "markdown",
      "source": [
        "# 基本資料型態\n",
        "\n",
        "* int (整數)\n",
        "* float(浮點數)\n",
        "* bool (布林變數)\n",
        "* str (字串文字訊息)\n",
        "\n",
        "使用'type(變數)' 可以檢查變數裡面的資料型態。"
      ],
      "metadata": {
        "id": "LZo26oPQUHde"
      }
    },
    {
      "cell_type": "markdown",
      "source": [
        "## int "
      ],
      "metadata": {
        "id": "8bI6htBvU1Y0"
      }
    },
    {
      "cell_type": "code",
      "source": [
        "x = 1"
      ],
      "metadata": {
        "id": "2ELcLbRvQFPo"
      },
      "execution_count": null,
      "outputs": []
    },
    {
      "cell_type": "code",
      "source": [
        "def foo(name):\n",
        "  print(\"Hello\",name)\n",
        "\n",
        "# 定義一個函式"
      ],
      "metadata": {
        "id": "PBwtBo7kQ9JG"
      },
      "execution_count": null,
      "outputs": []
    },
    {
      "cell_type": "code",
      "source": [
        "y = foo(\"Jason\")"
      ],
      "metadata": {
        "colab": {
          "base_uri": "https://localhost:8080/"
        },
        "id": "cKG9nguIRLFF",
        "outputId": "27f5e886-b67b-492a-8ccb-3d54e20b7d7c"
      },
      "execution_count": null,
      "outputs": [
        {
          "output_type": "stream",
          "name": "stdout",
          "text": [
            "Hello Jason\n"
          ]
        }
      ]
    },
    {
      "cell_type": "code",
      "source": [
        "type(x)"
      ],
      "metadata": {
        "colab": {
          "base_uri": "https://localhost:8080/"
        },
        "id": "wGLdtNoATqOV",
        "outputId": "3369f4ca-9b66-4c6d-b322-74a45469b2c9"
      },
      "execution_count": null,
      "outputs": [
        {
          "output_type": "execute_result",
          "data": {
            "text/plain": [
              "int"
            ]
          },
          "metadata": {},
          "execution_count": 12
        }
      ]
    },
    {
      "cell_type": "code",
      "source": [
        "y = 4/2\n",
        "type(y)"
      ],
      "metadata": {
        "colab": {
          "base_uri": "https://localhost:8080/"
        },
        "id": "tkENQRUaWO8U",
        "outputId": "5fe95cb0-8304-45f2-c6e4-8322a2ae0aa1"
      },
      "execution_count": null,
      "outputs": [
        {
          "output_type": "execute_result",
          "data": {
            "text/plain": [
              "float"
            ]
          },
          "metadata": {},
          "execution_count": 13
        }
      ]
    },
    {
      "cell_type": "markdown",
      "source": [
        "## 次方"
      ],
      "metadata": {
        "id": "xbSW8IqpY78M"
      }
    },
    {
      "cell_type": "code",
      "source": [
        "2**4"
      ],
      "metadata": {
        "colab": {
          "base_uri": "https://localhost:8080/"
        },
        "id": "zv0a5uMjXNp9",
        "outputId": "e18834b6-9c7f-4a8e-8f5d-3942fb5c394a"
      },
      "execution_count": null,
      "outputs": [
        {
          "output_type": "execute_result",
          "data": {
            "text/plain": [
              "16"
            ]
          },
          "metadata": {},
          "execution_count": 16
        }
      ]
    },
    {
      "cell_type": "code",
      "source": [
        "2^2"
      ],
      "metadata": {
        "colab": {
          "base_uri": "https://localhost:8080/"
        },
        "id": "0HOqWgsIXNvU",
        "outputId": "9c7b828d-95aa-4daa-b81b-cf9115d69707"
      },
      "execution_count": null,
      "outputs": [
        {
          "output_type": "execute_result",
          "data": {
            "text/plain": [
              "0"
            ]
          },
          "metadata": {},
          "execution_count": 15
        }
      ]
    },
    {
      "cell_type": "markdown",
      "source": [
        "# 什麼是bool?"
      ],
      "metadata": {
        "id": "fBbdPkxfX2he"
      }
    },
    {
      "cell_type": "code",
      "source": [
        "3>2"
      ],
      "metadata": {
        "colab": {
          "base_uri": "https://localhost:8080/"
        },
        "id": "kUd79gfiX7Sn",
        "outputId": "0ee0b2df-e5b6-4cb2-f161-c313910e12cd"
      },
      "execution_count": null,
      "outputs": [
        {
          "output_type": "execute_result",
          "data": {
            "text/plain": [
              "True"
            ]
          },
          "metadata": {},
          "execution_count": 17
        }
      ]
    },
    {
      "cell_type": "code",
      "source": [
        "True+True\n",
        "# 電腦自動把True轉換為1"
      ],
      "metadata": {
        "colab": {
          "base_uri": "https://localhost:8080/"
        },
        "id": "9093bhi8X_yT",
        "outputId": "bd41d60f-5022-482f-ae4e-bde6a301f7c3"
      },
      "execution_count": null,
      "outputs": [
        {
          "output_type": "execute_result",
          "data": {
            "text/plain": [
              "2"
            ]
          },
          "metadata": {},
          "execution_count": 18
        }
      ]
    },
    {
      "cell_type": "code",
      "source": [
        "True+False\n",
        "#電腦自動把False轉換為0"
      ],
      "metadata": {
        "colab": {
          "base_uri": "https://localhost:8080/"
        },
        "id": "-ezl3YJwYOM7",
        "outputId": "2d6dc10b-cc09-4c73-e48e-064cc1cfb604"
      },
      "execution_count": null,
      "outputs": [
        {
          "output_type": "execute_result",
          "data": {
            "text/plain": [
              "1"
            ]
          },
          "metadata": {},
          "execution_count": 20
        }
      ]
    },
    {
      "cell_type": "code",
      "source": [
        "z = 2"
      ],
      "metadata": {
        "id": "KZ6GdPiGYdTz"
      },
      "execution_count": null,
      "outputs": []
    },
    {
      "cell_type": "code",
      "source": [
        "# 比較兩個變數內的值有沒有相等\n",
        "x == z"
      ],
      "metadata": {
        "colab": {
          "base_uri": "https://localhost:8080/"
        },
        "id": "nEDYqJB9YpRF",
        "outputId": "3df02a0e-0698-4fb9-9754-9166c4e17c5b"
      },
      "execution_count": null,
      "outputs": [
        {
          "output_type": "execute_result",
          "data": {
            "text/plain": [
              "False"
            ]
          },
          "metadata": {},
          "execution_count": 26
        }
      ]
    },
    {
      "cell_type": "markdown",
      "source": [
        "# 關於字串"
      ],
      "metadata": {
        "id": "VdItDBzZZItj"
      }
    },
    {
      "cell_type": "code",
      "source": [
        "w = \"dog\""
      ],
      "metadata": {
        "id": "Plv6mNf4ZQMz"
      },
      "execution_count": null,
      "outputs": []
    },
    {
      "cell_type": "code",
      "source": [
        "u = \"It's my dog\""
      ],
      "metadata": {
        "id": "1E7F1g5vZsFs"
      },
      "execution_count": null,
      "outputs": []
    },
    {
      "cell_type": "code",
      "source": [
        "v = 'It's my dog'\n",
        "# 語法錯誤，因為It's那邊就會出錯，電腦誤把'It' 編成獨立的字"
      ],
      "metadata": {
        "colab": {
          "base_uri": "https://localhost:8080/",
          "height": 136
        },
        "id": "CI-T-XOEZzdD",
        "outputId": "f39f62c9-8ce0-4cf0-84a9-cf5a4bf192b8"
      },
      "execution_count": null,
      "outputs": [
        {
          "output_type": "error",
          "ename": "SyntaxError",
          "evalue": "ignored",
          "traceback": [
            "\u001b[0;36m  File \u001b[0;32m\"<ipython-input-29-d6934be7789b>\"\u001b[0;36m, line \u001b[0;32m1\u001b[0m\n\u001b[0;31m    v = 'It's my dog'\u001b[0m\n\u001b[0m            ^\u001b[0m\n\u001b[0;31mSyntaxError\u001b[0m\u001b[0;31m:\u001b[0m invalid syntax\n"
          ]
        }
      ]
    },
    {
      "cell_type": "code",
      "source": [
        "v = 'It\\'s my dog'\n",
        "#反斜線\\ 是跳脫字元"
      ],
      "metadata": {
        "id": "2RMr1PRZaHWA"
      },
      "execution_count": null,
      "outputs": []
    },
    {
      "cell_type": "markdown",
      "source": [
        "# 字串的加法(+)跟乘法(*1)"
      ],
      "metadata": {
        "id": "ZzzYrRZLfY2c"
      }
    },
    {
      "cell_type": "code",
      "source": [
        "\"abc\"+\"3\""
      ],
      "metadata": {
        "colab": {
          "base_uri": "https://localhost:8080/",
          "height": 36
        },
        "id": "HKh0r9pqfX29",
        "outputId": "d15a9a55-23b0-4286-95cd-8964866eaafa"
      },
      "execution_count": null,
      "outputs": [
        {
          "output_type": "execute_result",
          "data": {
            "text/plain": [
              "'abc3'"
            ],
            "application/vnd.google.colaboratory.intrinsic+json": {
              "type": "string"
            }
          },
          "metadata": {},
          "execution_count": 31
        }
      ]
    },
    {
      "cell_type": "code",
      "source": [
        "\"abc\"*3"
      ],
      "metadata": {
        "colab": {
          "base_uri": "https://localhost:8080/",
          "height": 36
        },
        "id": "J2fEMQRhfnBL",
        "outputId": "b8432164-4b88-415a-e92c-c15fda1b5434"
      },
      "execution_count": null,
      "outputs": [
        {
          "output_type": "execute_result",
          "data": {
            "text/plain": [
              "'abcabcabc'"
            ],
            "application/vnd.google.colaboratory.intrinsic+json": {
              "type": "string"
            }
          },
          "metadata": {},
          "execution_count": 32
        }
      ]
    },
    {
      "cell_type": "markdown",
      "source": [
        "## 練習: (使用字串畫出底下的金字塔)\n",
        "```\n",
        "     *\n",
        "    ***\n",
        "   *****\n",
        "  *******\n",
        " *********\n",
        "```\n"
      ],
      "metadata": {
        "id": "39BqbJXXfvTg"
      }
    },
    {
      "cell_type": "code",
      "source": [
        "for i in range(5):\n",
        "  print(i)"
      ],
      "metadata": {
        "colab": {
          "base_uri": "https://localhost:8080/"
        },
        "id": "MvTu15xGg69m",
        "outputId": "1ec8856c-8b1a-48ee-ed83-c4cbab9fd896"
      },
      "execution_count": null,
      "outputs": [
        {
          "output_type": "stream",
          "name": "stdout",
          "text": [
            "0\n",
            "1\n",
            "2\n",
            "3\n",
            "4\n"
          ]
        }
      ]
    },
    {
      "cell_type": "code",
      "source": [
        "for i in range(3):\n",
        "  print(\"程式區塊開始\")\n",
        "  print(i)\n",
        "  print(\"程式區塊結束\")"
      ],
      "metadata": {
        "colab": {
          "base_uri": "https://localhost:8080/"
        },
        "id": "LhYHBWMVhAiA",
        "outputId": "a63c5548-4462-46d2-89b7-ed727bdfe9a9"
      },
      "execution_count": null,
      "outputs": [
        {
          "output_type": "stream",
          "name": "stdout",
          "text": [
            "程式區塊開始\n",
            "0\n",
            "程式區塊結束\n",
            "程式區塊開始\n",
            "1\n",
            "程式區塊結束\n",
            "程式區塊開始\n",
            "2\n",
            "程式區塊結束\n"
          ]
        }
      ]
    },
    {
      "cell_type": "code",
      "source": [
        "for i in range(3):\n",
        "  print(\"程式區塊開始\")\n",
        "  print(i)\n",
        "print(\"程式區塊結束\")"
      ],
      "metadata": {
        "colab": {
          "base_uri": "https://localhost:8080/"
        },
        "id": "_OmYQ9zCgO2V",
        "outputId": "75d9077f-55cb-4bbe-bba4-4e7d2fea2962"
      },
      "execution_count": null,
      "outputs": [
        {
          "output_type": "stream",
          "name": "stdout",
          "text": [
            "程式區塊開始\n",
            "0\n",
            "程式區塊開始\n",
            "1\n",
            "程式區塊開始\n",
            "2\n",
            "程式區塊結束\n"
          ]
        }
      ]
    },
    {
      "cell_type": "code",
      "source": [
        "for i in range(5):\n",
        "  print((2*i+1))"
      ],
      "metadata": {
        "colab": {
          "base_uri": "https://localhost:8080/"
        },
        "id": "o0_dgIWKiF8x",
        "outputId": "a24ade65-5494-4bc0-a18c-97e4af206dd0"
      },
      "execution_count": null,
      "outputs": [
        {
          "output_type": "stream",
          "name": "stdout",
          "text": [
            "1\n",
            "3\n",
            "5\n",
            "7\n",
            "9\n"
          ]
        }
      ]
    },
    {
      "cell_type": "code",
      "source": [
        "for i in range(5):\n",
        "  print((2*i+1)*\"*\")"
      ],
      "metadata": {
        "colab": {
          "base_uri": "https://localhost:8080/"
        },
        "id": "ePyyOf_qhvkM",
        "outputId": "d34681d6-0bd4-4b3f-8766-bc67314e9ade"
      },
      "execution_count": null,
      "outputs": [
        {
          "output_type": "stream",
          "name": "stdout",
          "text": [
            "*\n",
            "***\n",
            "*****\n",
            "*******\n",
            "*********\n"
          ]
        }
      ]
    },
    {
      "cell_type": "code",
      "source": [
        "for i in range(5):\n",
        "  print((-i+5)*' '+(2*i+1)*'*')"
      ],
      "metadata": {
        "colab": {
          "base_uri": "https://localhost:8080/"
        },
        "id": "X8UxakDuiffh",
        "outputId": "769ae330-6217-4a0c-c3d5-0df95106e400"
      },
      "execution_count": null,
      "outputs": [
        {
          "output_type": "stream",
          "name": "stdout",
          "text": [
            "     *\n",
            "    ***\n",
            "   *****\n",
            "  *******\n",
            " *********\n"
          ]
        }
      ]
    },
    {
      "cell_type": "markdown",
      "source": [
        "# input() 及print()\n",
        "input():用來讀取輸入\n",
        "print():用來打印輸出"
      ],
      "metadata": {
        "id": "OkUPPNNFlI2b"
      }
    },
    {
      "cell_type": "code",
      "source": [
        "x = input(\"請輸入一個數字：\")"
      ],
      "metadata": {
        "colab": {
          "base_uri": "https://localhost:8080/"
        },
        "id": "G9j0_6gslIXa",
        "outputId": "f78bc87f-1812-42c9-f484-77480a66fffc"
      },
      "execution_count": null,
      "outputs": [
        {
          "name": "stdout",
          "output_type": "stream",
          "text": [
            "請輸入一個數字：100\n"
          ]
        }
      ]
    },
    {
      "cell_type": "code",
      "source": [
        "type(x)"
      ],
      "metadata": {
        "colab": {
          "base_uri": "https://localhost:8080/"
        },
        "id": "Cz7lxLWGlHsM",
        "outputId": "5fae0ff9-76cf-4768-de3b-fb85463c4588"
      },
      "execution_count": null,
      "outputs": [
        {
          "output_type": "execute_result",
          "data": {
            "text/plain": [
              "int"
            ]
          },
          "metadata": {},
          "execution_count": 53
        }
      ]
    },
    {
      "cell_type": "code",
      "source": [
        "print(x)"
      ],
      "metadata": {
        "colab": {
          "base_uri": "https://localhost:8080/"
        },
        "id": "aGCPPFw1mQ4B",
        "outputId": "04fd7f8c-558d-4913-e483-6215b2bbb991"
      },
      "execution_count": null,
      "outputs": [
        {
          "output_type": "stream",
          "name": "stdout",
          "text": [
            "100\n"
          ]
        }
      ]
    },
    {
      "cell_type": "code",
      "source": [
        "x = 1\n",
        "y = 2\n",
        "z = 3\n",
        "print(x, y, z)"
      ],
      "metadata": {
        "colab": {
          "base_uri": "https://localhost:8080/"
        },
        "id": "2v8o1QDZmTML",
        "outputId": "62ddfd65-72e3-40c4-aa2b-6d61454ab80f"
      },
      "execution_count": null,
      "outputs": [
        {
          "output_type": "stream",
          "name": "stdout",
          "text": [
            "1 2 3\n"
          ]
        }
      ]
    },
    {
      "cell_type": "markdown",
      "source": [
        "# 基礎容器型別\n",
        "\n",
        "* list (串列)\n",
        "* tuple (元組)\n",
        "* dict (字典)\n",
        "* set (集合)\n",
        "\n",
        "\n"
      ],
      "metadata": {
        "id": "MpqttxwFoELh"
      }
    },
    {
      "cell_type": "markdown",
      "source": [
        "# list"
      ],
      "metadata": {
        "id": "SuwG_D0F4-IU"
      }
    },
    {
      "cell_type": "code",
      "source": [
        "x =['a','b','c','d','e']"
      ],
      "metadata": {
        "id": "7qNxN3kX5BXx"
      },
      "execution_count": null,
      "outputs": []
    },
    {
      "cell_type": "code",
      "source": [
        "y = list('abcde')"
      ],
      "metadata": {
        "id": "i09dkYGY5L_T"
      },
      "execution_count": null,
      "outputs": []
    },
    {
      "cell_type": "code",
      "source": [
        "y"
      ],
      "metadata": {
        "colab": {
          "base_uri": "https://localhost:8080/"
        },
        "id": "vGZXavCk5VI4",
        "outputId": "527c19d1-60b0-4d4f-ae67-6ed495c5a60f"
      },
      "execution_count": null,
      "outputs": [
        {
          "output_type": "execute_result",
          "data": {
            "text/plain": [
              "['a', 'b', 'c', 'd', 'e']"
            ]
          },
          "metadata": {},
          "execution_count": 64
        }
      ]
    },
    {
      "cell_type": "code",
      "source": [
        "x[0]"
      ],
      "metadata": {
        "colab": {
          "base_uri": "https://localhost:8080/",
          "height": 36
        },
        "id": "fyRbc7D75WLr",
        "outputId": "856a833d-032c-4337-b2c0-c37be38819aa"
      },
      "execution_count": null,
      "outputs": [
        {
          "output_type": "execute_result",
          "data": {
            "text/plain": [
              "'a'"
            ],
            "application/vnd.google.colaboratory.intrinsic+json": {
              "type": "string"
            }
          },
          "metadata": {},
          "execution_count": 66
        }
      ]
    },
    {
      "cell_type": "code",
      "source": [
        "# 回傳list裡面有幾個items\n",
        "len(x)"
      ],
      "metadata": {
        "colab": {
          "base_uri": "https://localhost:8080/"
        },
        "id": "AVa_-BSo5cZz",
        "outputId": "7c8e062d-022a-4b93-c1d4-ffbf6518b04d"
      },
      "execution_count": null,
      "outputs": [
        {
          "output_type": "execute_result",
          "data": {
            "text/plain": [
              "5"
            ]
          },
          "metadata": {},
          "execution_count": 68
        }
      ]
    },
    {
      "cell_type": "code",
      "source": [
        "url =\"https://cc.tvbs.com.tw/img/upload/2022/04/23/20220423120702-606bb9e8.jpg\""
      ],
      "metadata": {
        "id": "ARv-ZYlM5wN7"
      },
      "execution_count": null,
      "outputs": []
    },
    {
      "cell_type": "code",
      "source": [
        "type(url)"
      ],
      "metadata": {
        "colab": {
          "base_uri": "https://localhost:8080/"
        },
        "id": "TTCK_0JI6F-i",
        "outputId": "8fa777fd-1d5a-40a0-e934-498496688ed5"
      },
      "execution_count": null,
      "outputs": [
        {
          "output_type": "execute_result",
          "data": {
            "text/plain": [
              "str"
            ]
          },
          "metadata": {},
          "execution_count": 70
        }
      ]
    },
    {
      "cell_type": "code",
      "source": [
        "url.split?\n",
        "# 從後面加上? 執行後可以顯示說明"
      ],
      "metadata": {
        "id": "9pPG4tGc6IfQ"
      },
      "execution_count": null,
      "outputs": []
    },
    {
      "cell_type": "markdown",
      "source": [
        "# 從網址切分出檔案名稱"
      ],
      "metadata": {
        "id": "DDYNbL0r7IxA"
      }
    },
    {
      "cell_type": "code",
      "source": [
        "url.split('/')"
      ],
      "metadata": {
        "colab": {
          "base_uri": "https://localhost:8080/"
        },
        "id": "8WAZNiDT6u4J",
        "outputId": "7bc0b86f-16f8-40a2-f103-3855bfd53bae"
      },
      "execution_count": null,
      "outputs": [
        {
          "output_type": "execute_result",
          "data": {
            "text/plain": [
              "['https:',\n",
              " '',\n",
              " 'cc.tvbs.com.tw',\n",
              " 'img',\n",
              " 'upload',\n",
              " '2022',\n",
              " '04',\n",
              " '23',\n",
              " '20220423120702-606bb9e8.jpg']"
            ]
          },
          "metadata": {},
          "execution_count": 74
        }
      ]
    },
    {
      "cell_type": "code",
      "source": [
        "url.split('/')[8]\n",
        "# 取得list中倒數第一個item"
      ],
      "metadata": {
        "colab": {
          "base_uri": "https://localhost:8080/",
          "height": 36
        },
        "id": "oyT0tnE27B5x",
        "outputId": "925b8116-2820-4e03-8e84-c20d804b6fe7"
      },
      "execution_count": null,
      "outputs": [
        {
          "output_type": "execute_result",
          "data": {
            "text/plain": [
              "'20220423120702-606bb9e8.jpg'"
            ],
            "application/vnd.google.colaboratory.intrinsic+json": {
              "type": "string"
            }
          },
          "metadata": {},
          "execution_count": 76
        }
      ]
    },
    {
      "cell_type": "code",
      "source": [
        "url.split('/')[-1]"
      ],
      "metadata": {
        "colab": {
          "base_uri": "https://localhost:8080/",
          "height": 36
        },
        "id": "O-trp7Ca7h1-",
        "outputId": "0da6e1bf-64a3-4c8b-a3d4-7d3429011a05"
      },
      "execution_count": null,
      "outputs": [
        {
          "output_type": "execute_result",
          "data": {
            "text/plain": [
              "'20220423120702-606bb9e8.jpg'"
            ],
            "application/vnd.google.colaboratory.intrinsic+json": {
              "type": "string"
            }
          },
          "metadata": {},
          "execution_count": 77
        }
      ]
    },
    {
      "cell_type": "markdown",
      "source": [
        "### 如何取得list中前幾個或後幾個items?"
      ],
      "metadata": {
        "id": "3zIE1Atk70VY"
      }
    },
    {
      "cell_type": "code",
      "source": [
        "# 顯示前三個items\n",
        "x[:3]"
      ],
      "metadata": {
        "colab": {
          "base_uri": "https://localhost:8080/"
        },
        "id": "WiM3XMvv8AFY",
        "outputId": "4d7f5433-3aa6-4ccd-ee8f-bfc7aecc3405"
      },
      "execution_count": null,
      "outputs": [
        {
          "output_type": "execute_result",
          "data": {
            "text/plain": [
              "['a', 'b', 'c']"
            ]
          },
          "metadata": {},
          "execution_count": 80
        }
      ]
    },
    {
      "cell_type": "code",
      "source": [
        "# 顯示後三個items\n",
        "x[-3:]"
      ],
      "metadata": {
        "colab": {
          "base_uri": "https://localhost:8080/"
        },
        "id": "OtYU-pL28Trn",
        "outputId": "1c6d69ba-e631-4f02-ec0b-be874563c103"
      },
      "execution_count": null,
      "outputs": [
        {
          "output_type": "execute_result",
          "data": {
            "text/plain": [
              "['c', 'd', 'e']"
            ]
          },
          "metadata": {},
          "execution_count": 81
        }
      ]
    },
    {
      "cell_type": "markdown",
      "source": [
        "## dict(字典)"
      ],
      "metadata": {
        "id": "DkgvVgqd8lPZ"
      }
    },
    {
      "cell_type": "code",
      "source": [
        "# 建立一個空字典\n",
        "d = {}"
      ],
      "metadata": {
        "id": "rcivGrak8yur"
      },
      "execution_count": null,
      "outputs": []
    },
    {
      "cell_type": "code",
      "source": [
        "type(d)"
      ],
      "metadata": {
        "colab": {
          "base_uri": "https://localhost:8080/"
        },
        "id": "wwKPkTV88t4B",
        "outputId": "6c86aba5-4567-431f-b779-3a731c126b3b"
      },
      "execution_count": null,
      "outputs": [
        {
          "output_type": "execute_result",
          "data": {
            "text/plain": [
              "dict"
            ]
          },
          "metadata": {},
          "execution_count": 85
        }
      ]
    },
    {
      "cell_type": "code",
      "source": [
        "d['cat'] = '貓咪'"
      ],
      "metadata": {
        "id": "nPpP4GAL863Q"
      },
      "execution_count": null,
      "outputs": []
    },
    {
      "cell_type": "code",
      "source": [
        "d"
      ],
      "metadata": {
        "colab": {
          "base_uri": "https://localhost:8080/"
        },
        "id": "DOzAvoAm9BNd",
        "outputId": "cd6ed127-eef6-42d1-e78c-e0c7785240a4"
      },
      "execution_count": null,
      "outputs": [
        {
          "output_type": "execute_result",
          "data": {
            "text/plain": [
              "{'cat': '貓咪'}"
            ]
          },
          "metadata": {},
          "execution_count": 89
        }
      ]
    },
    {
      "cell_type": "code",
      "source": [
        "# 加入第二筆資料\n",
        "d['dog'] = '狗狗'"
      ],
      "metadata": {
        "id": "XIdMBLsx9T1c"
      },
      "execution_count": null,
      "outputs": []
    },
    {
      "cell_type": "code",
      "source": [
        "d"
      ],
      "metadata": {
        "colab": {
          "base_uri": "https://localhost:8080/"
        },
        "id": "pxnKOOt59bd_",
        "outputId": "c13dc7f9-6b6a-4f22-b007-c72f3b60cb58"
      },
      "execution_count": null,
      "outputs": [
        {
          "output_type": "execute_result",
          "data": {
            "text/plain": [
              "{'cat': '貓咪', 'dog': '狗狗'}"
            ]
          },
          "metadata": {},
          "execution_count": 94
        }
      ]
    },
    {
      "cell_type": "code",
      "source": [
        "d['cat']"
      ],
      "metadata": {
        "colab": {
          "base_uri": "https://localhost:8080/",
          "height": 36
        },
        "id": "C1BjT4a6-8v5",
        "outputId": "9e059216-ea95-4824-fa5f-936ab1034a60"
      },
      "execution_count": null,
      "outputs": [
        {
          "output_type": "execute_result",
          "data": {
            "text/plain": [
              "'貓咪'"
            ],
            "application/vnd.google.colaboratory.intrinsic+json": {
              "type": "string"
            }
          },
          "metadata": {},
          "execution_count": 96
        }
      ]
    },
    {
      "cell_type": "markdown",
      "source": [
        "# for迴圈與list及dict的合用"
      ],
      "metadata": {
        "id": "rrXZfici_LaA"
      }
    },
    {
      "cell_type": "code",
      "source": [
        "x"
      ],
      "metadata": {
        "colab": {
          "base_uri": "https://localhost:8080/"
        },
        "id": "obAwIESm_SWk",
        "outputId": "24403fb3-9fe7-4161-99f9-d85044ff0462"
      },
      "execution_count": null,
      "outputs": [
        {
          "output_type": "execute_result",
          "data": {
            "text/plain": [
              "['a', 'b', 'c', 'd', 'e']"
            ]
          },
          "metadata": {},
          "execution_count": 99
        }
      ]
    },
    {
      "cell_type": "code",
      "source": [
        "# for迴圈跟字典合用\n",
        "for i in x:\n",
        "  print(i)"
      ],
      "metadata": {
        "colab": {
          "base_uri": "https://localhost:8080/"
        },
        "id": "OzDRjwnv_J50",
        "outputId": "245adb75-f58a-46af-f8fc-7fa0608aacaa"
      },
      "execution_count": null,
      "outputs": [
        {
          "output_type": "stream",
          "name": "stdout",
          "text": [
            "a\n",
            "b\n",
            "c\n",
            "d\n",
            "e\n"
          ]
        }
      ]
    },
    {
      "cell_type": "code",
      "source": [
        "# 印出key值\n",
        "for i in d:\n",
        "  print(i)"
      ],
      "metadata": {
        "colab": {
          "base_uri": "https://localhost:8080/"
        },
        "id": "VfmckFHIANFi",
        "outputId": "838d23cd-7352-4f86-96ff-9414cce8ab8b"
      },
      "execution_count": null,
      "outputs": [
        {
          "output_type": "stream",
          "name": "stdout",
          "text": [
            "cat\n",
            "dog\n"
          ]
        }
      ]
    },
    {
      "cell_type": "code",
      "source": [
        "# 印出value值\n",
        "for i in d:\n",
        "  print(d[i])"
      ],
      "metadata": {
        "colab": {
          "base_uri": "https://localhost:8080/"
        },
        "id": "_F8q9KYW_oW7",
        "outputId": "0c8cd1e2-1fbf-490e-e7c8-e3645e05f7e0"
      },
      "execution_count": null,
      "outputs": [
        {
          "output_type": "stream",
          "name": "stdout",
          "text": [
            "貓咪\n",
            "狗狗\n"
          ]
        }
      ]
    },
    {
      "cell_type": "code",
      "source": [
        "for i in d:\n",
        "  print(i,\":\",d[i])"
      ],
      "metadata": {
        "colab": {
          "base_uri": "https://localhost:8080/"
        },
        "id": "QmgDoIePAQ17",
        "outputId": "ce9cb0f6-e7b8-4a60-a0e4-92e44f8f7018"
      },
      "execution_count": null,
      "outputs": [
        {
          "output_type": "stream",
          "name": "stdout",
          "text": [
            "cat : 貓咪\n",
            "dog : 狗狗\n"
          ]
        }
      ]
    },
    {
      "cell_type": "markdown",
      "source": [
        "# 使用requests抓取網路資料"
      ],
      "metadata": {
        "id": "BeRbFBeQMs6j"
      }
    },
    {
      "cell_type": "markdown",
      "source": [
        "## 抓取網頁原始碼"
      ],
      "metadata": {
        "id": "Z5k7Dap9NLqJ"
      }
    },
    {
      "cell_type": "code",
      "source": [
        "url = \"https://victorgau.github.io/khpy_web_intro/html_only.html\""
      ],
      "metadata": {
        "id": "P4Gl38khNPo3"
      },
      "execution_count": null,
      "outputs": []
    },
    {
      "cell_type": "code",
      "source": [
        "# 載入requests，用來抓取網路上的資料\n",
        "import requests"
      ],
      "metadata": {
        "id": "5KXUCROyMwgs"
      },
      "execution_count": null,
      "outputs": []
    },
    {
      "cell_type": "code",
      "source": [
        "# 取得特定網址的網頁原始碼，並將回傳的內容(包含headers)放入變數r\n",
        "r = requests.get(url)"
      ],
      "metadata": {
        "id": "Bg8lJbLZNdrR"
      },
      "execution_count": null,
      "outputs": []
    },
    {
      "cell_type": "code",
      "source": [
        "# 印出回傳值中的.text的部分 (即網頁原始碼)\n",
        "print(r.text)"
      ],
      "metadata": {
        "colab": {
          "base_uri": "https://localhost:8080/"
        },
        "id": "iKhx_Qf0Nj4_",
        "outputId": "278a8630-90e7-453f-afc2-858ddb7ca3c7"
      },
      "execution_count": null,
      "outputs": [
        {
          "output_type": "stream",
          "name": "stdout",
          "text": [
            "<!DOCTYPE html>\n",
            "<html>\n",
            "<head>\n",
            "    <title>HTML範例</title>\n",
            "</head>\n",
            "<body>\n",
            "\n",
            "<h1>哈囉！HTML！</h1>\n",
            "\n",
            "<img src=\"ninja.jpg\" />\n",
            "\n",
            "</body>\n",
            "</html>\n"
          ]
        }
      ]
    },
    {
      "cell_type": "markdown",
      "source": [
        "## 使用requests 呼叫web API,寫一個中文字典\n",
        "\n",
        "萌典API:https://github.com/g0v/moedict-webkit\n",
        "\n",
        "API:Application programming interface\n",
        "API是一個提供給應用程式(Application)使用程式(program)用來存取特定服務的介面(\n",
        "interface)\n"
      ],
      "metadata": {
        "id": "slZ_p1VlOwak"
      }
    },
    {
      "cell_type": "markdown",
      "source": [
        "## 方法一"
      ],
      "metadata": {
        "id": "Ox80-6GAQx55"
      }
    },
    {
      "cell_type": "markdown",
      "source": [
        "### 抓取資料"
      ],
      "metadata": {
        "id": "hTkmCBYCUoRU"
      }
    },
    {
      "cell_type": "code",
      "source": [
        "import json"
      ],
      "metadata": {
        "id": "bvav0_aRReo_"
      },
      "execution_count": null,
      "outputs": []
    },
    {
      "cell_type": "code",
      "source": [
        "q = \"教室\""
      ],
      "metadata": {
        "id": "4tB0IpDsRFK0"
      },
      "execution_count": null,
      "outputs": []
    },
    {
      "cell_type": "code",
      "source": [
        "url = \"https://www.moedict.tw/uni/\" + q"
      ],
      "metadata": {
        "id": "R4MNbCeQQz78"
      },
      "execution_count": null,
      "outputs": []
    },
    {
      "cell_type": "code",
      "source": [
        "url"
      ],
      "metadata": {
        "colab": {
          "base_uri": "https://localhost:8080/",
          "height": 36
        },
        "id": "diHDEM8DRKky",
        "outputId": "59865f6a-dbe2-4de6-c9aa-b0c8659c4ed9"
      },
      "execution_count": null,
      "outputs": [
        {
          "output_type": "execute_result",
          "data": {
            "text/plain": [
              "'https://www.moedict.tw/uni/教室'"
            ],
            "application/vnd.google.colaboratory.intrinsic+json": {
              "type": "string"
            }
          },
          "metadata": {},
          "execution_count": 132
        }
      ]
    },
    {
      "cell_type": "code",
      "source": [
        "r = requests.get(url)"
      ],
      "metadata": {
        "id": "3sHyoyv_RO3w"
      },
      "execution_count": null,
      "outputs": []
    },
    {
      "cell_type": "code",
      "source": [
        "print(r.text)"
      ],
      "metadata": {
        "colab": {
          "base_uri": "https://localhost:8080/"
        },
        "id": "H0RlYkhGRTHg",
        "outputId": "8cd3f473-df2f-4e9e-c4c2-feb80f255b23"
      },
      "execution_count": null,
      "outputs": [
        {
          "output_type": "stream",
          "name": "stdout",
          "text": [
            "\t{\n",
            "\t\t\"heteronyms\": [\n",
            "\t\t\t{\n",
            "\t\t\t\t\"bopomofo\": \"ㄐㄧㄠˋ ㄕˋ\",\n",
            "\t\t\t\t\"bopomofo2\": \"jiàu shr̀\",\n",
            "\t\t\t\t\"definitions\": [\n",
            "\t\t\t\t\t{\n",
            "\t\t\t\t\t\t\"def\": \"學校裡進行教學活動的房間。\",\n",
            "\t\t\t\t\t\t\"example\": [\n",
            "\t\t\t\t\t\t\t\"如：「實驗教室」、「音樂教室」。\"\n",
            "\t\t\t\t\t\t],\n",
            "\t\t\t\t\t\t\"synonyms\": \"課堂,講堂\"\n",
            "\t\t\t\t\t}\n",
            "\t\t\t\t],\n",
            "\t\t\t\t\"pinyin\": \"jiào shì\"\n",
            "\t\t\t}\n",
            "\t\t],\n",
            "\t\t\"title\": \"教室\"\n",
            "\t}\n"
          ]
        }
      ]
    },
    {
      "cell_type": "markdown",
      "source": [
        "### 剖析資料"
      ],
      "metadata": {
        "id": "7D8U13THUq84"
      }
    },
    {
      "cell_type": "code",
      "source": [
        "data = json.loads(r.text)"
      ],
      "metadata": {
        "id": "Bt_dDeGWUdUJ"
      },
      "execution_count": null,
      "outputs": []
    },
    {
      "cell_type": "code",
      "source": [
        "data"
      ],
      "metadata": {
        "colab": {
          "base_uri": "https://localhost:8080/"
        },
        "id": "9tReCIO5SXnU",
        "outputId": "b572ef57-c490-4e3c-8c7f-cd56910cad21"
      },
      "execution_count": null,
      "outputs": [
        {
          "output_type": "execute_result",
          "data": {
            "text/plain": [
              "{'heteronyms': [{'bopomofo': 'ㄐㄧㄠˋ ㄕˋ',\n",
              "   'bopomofo2': 'jiàu shr̀',\n",
              "   'definitions': [{'def': '學校裡進行教學活動的房間。',\n",
              "     'example': ['如：「實驗教室」、「音樂教室」。'],\n",
              "     'synonyms': '課堂,講堂'}],\n",
              "   'pinyin': 'jiào shì'}],\n",
              " 'title': '教室'}"
            ]
          },
          "metadata": {},
          "execution_count": 154
        }
      ]
    },
    {
      "cell_type": "code",
      "source": [
        "type(data)"
      ],
      "metadata": {
        "colab": {
          "base_uri": "https://localhost:8080/"
        },
        "id": "rP5Z7XV-SaTJ",
        "outputId": "fb2758b5-0504-4c47-fef6-c39b3f1b5f0a"
      },
      "execution_count": null,
      "outputs": [
        {
          "output_type": "execute_result",
          "data": {
            "text/plain": [
              "dict"
            ]
          },
          "metadata": {},
          "execution_count": 155
        }
      ]
    },
    {
      "cell_type": "code",
      "source": [
        "data['heteronyms']"
      ],
      "metadata": {
        "colab": {
          "base_uri": "https://localhost:8080/"
        },
        "id": "yEzcHtNMSc-v",
        "outputId": "658bed6a-50cd-4a2e-c67f-e7aaeb7c4962"
      },
      "execution_count": null,
      "outputs": [
        {
          "output_type": "execute_result",
          "data": {
            "text/plain": [
              "[{'bopomofo': 'ㄐㄧㄠˋ ㄕˋ',\n",
              "  'bopomofo2': 'jiàu shr̀',\n",
              "  'definitions': [{'def': '學校裡進行教學活動的房間。',\n",
              "    'example': ['如：「實驗教室」、「音樂教室」。'],\n",
              "    'synonyms': '課堂,講堂'}],\n",
              "  'pinyin': 'jiào shì'}]"
            ]
          },
          "metadata": {},
          "execution_count": 165
        }
      ]
    },
    {
      "cell_type": "code",
      "source": [
        "type(data['heteronyms'])"
      ],
      "metadata": {
        "colab": {
          "base_uri": "https://localhost:8080/"
        },
        "id": "Pf1YKn0pWyeJ",
        "outputId": "9b9d58ae-e1ae-4811-f063-b7c1b9fcd774"
      },
      "execution_count": null,
      "outputs": [
        {
          "output_type": "execute_result",
          "data": {
            "text/plain": [
              "list"
            ]
          },
          "metadata": {},
          "execution_count": 167
        }
      ]
    },
    {
      "cell_type": "code",
      "source": [
        "data['heteronyms'][0][\"definitions\"]"
      ],
      "metadata": {
        "colab": {
          "base_uri": "https://localhost:8080/"
        },
        "id": "W5tvnT3BW1ZH",
        "outputId": "97f6814c-41bb-48a9-9093-35462d1415cd"
      },
      "execution_count": null,
      "outputs": [
        {
          "output_type": "execute_result",
          "data": {
            "text/plain": [
              "[{'def': '學校裡進行教學活動的房間。',\n",
              "  'example': ['如：「實驗教室」、「音樂教室」。'],\n",
              "  'synonyms': '課堂,講堂'}]"
            ]
          },
          "metadata": {},
          "execution_count": 173
        }
      ]
    },
    {
      "cell_type": "code",
      "source": [
        "data['heteronyms'][0][\"definitions\"][0][\"def\"]"
      ],
      "metadata": {
        "colab": {
          "base_uri": "https://localhost:8080/",
          "height": 36
        },
        "id": "jdzwUPn1XdWy",
        "outputId": "b2c609bf-e94a-44a3-b664-28465fa61773"
      },
      "execution_count": null,
      "outputs": [
        {
          "output_type": "execute_result",
          "data": {
            "text/plain": [
              "'學校裡進行教學活動的房間。'"
            ],
            "application/vnd.google.colaboratory.intrinsic+json": {
              "type": "string"
            }
          },
          "metadata": {},
          "execution_count": 174
        }
      ]
    },
    {
      "cell_type": "markdown",
      "source": [
        "## 方法二"
      ],
      "metadata": {
        "id": "z-a4xvQFXzkx"
      }
    },
    {
      "cell_type": "code",
      "source": [
        "# 直接將抓取json資料跟剖析json資料寫在一起\n",
        "data = requests.get(url).json()"
      ],
      "metadata": {
        "id": "1n1VeO4aX1_e"
      },
      "execution_count": 176,
      "outputs": []
    },
    {
      "cell_type": "code",
      "source": [
        "# 取得我們所需的資料\n",
        "data['heteronyms'][0][\"definitions\"][0][\"def\"]"
      ],
      "metadata": {
        "colab": {
          "base_uri": "https://localhost:8080/",
          "height": 36
        },
        "id": "DQ9UTix4Ycx5",
        "outputId": "55de94dc-6a22-439a-fee6-d566d4df1215"
      },
      "execution_count": 177,
      "outputs": [
        {
          "output_type": "execute_result",
          "data": {
            "text/plain": [
              "'學校裡進行教學活動的房間。'"
            ],
            "application/vnd.google.colaboratory.intrinsic+json": {
              "type": "string"
            }
          },
          "metadata": {},
          "execution_count": 177
        }
      ]
    },
    {
      "cell_type": "markdown",
      "source": [
        "## 將方法二寫成函式來使用"
      ],
      "metadata": {
        "id": "H4-Zw9ZmZFGE"
      }
    },
    {
      "cell_type": "code",
      "source": [
        "def lookup(q):\n",
        "  url = \"https://www.moedict.tw/uni/\" + q\n",
        "  data = requests.get(url).json()\n",
        "  return data['heteronyms'][0][\"definitions\"][0][\"def\"]"
      ],
      "metadata": {
        "id": "Ucpo9YFBZLIl"
      },
      "execution_count": 189,
      "outputs": []
    },
    {
      "cell_type": "code",
      "source": [
        "lookup('教室')"
      ],
      "metadata": {
        "colab": {
          "base_uri": "https://localhost:8080/",
          "height": 36
        },
        "id": "Ytb1OBpFaPMi",
        "outputId": "58718ef0-5a6c-415c-aa69-e64ae4a92c27"
      },
      "execution_count": 191,
      "outputs": [
        {
          "output_type": "execute_result",
          "data": {
            "text/plain": [
              "'學校裡進行教學活動的房間。'"
            ],
            "application/vnd.google.colaboratory.intrinsic+json": {
              "type": "string"
            }
          },
          "metadata": {},
          "execution_count": 191
        }
      ]
    },
    {
      "cell_type": "code",
      "source": [
        "lookup(\"森林\")"
      ],
      "metadata": {
        "colab": {
          "base_uri": "https://localhost:8080/",
          "height": 36
        },
        "id": "93_UtA9sauIv",
        "outputId": "254314a2-336e-4ecf-9eec-58740932cc84"
      },
      "execution_count": 192,
      "outputs": [
        {
          "output_type": "execute_result",
          "data": {
            "text/plain": [
              "'樹木密生的寬廣地區。'"
            ],
            "application/vnd.google.colaboratory.intrinsic+json": {
              "type": "string"
            }
          },
          "metadata": {},
          "execution_count": 192
        }
      ]
    },
    {
      "cell_type": "markdown",
      "source": [
        "#### reqests.get(url).json() 是啥？\n",
        "\n",
        "底下兩個東西結果是一樣的：\n",
        "\n",
        "作法一：\n",
        "```python\n",
        "import requests\n",
        "import json\n",
        "\n",
        "r = requests.get(url)\n",
        "data = json.loads(r.text)\n",
        "```\n",
        "\n",
        "作法二:\n",
        "```python\n",
        "import requests\n",
        "\n",
        "data = requests.get(url).json()\n",
        "```\n"
      ],
      "metadata": {
        "id": "xv14_5Ssbm2i"
      }
    },
    {
      "cell_type": "markdown",
      "source": [
        "#### 讀取0050成分股\n",
        "\n",
        "https://www.yuantaetfs.com/api/StkWeights?date=&fundid=1066"
      ],
      "metadata": {
        "id": "wBPR_qhed2Gw"
      }
    },
    {
      "cell_type": "code",
      "source": [
        "import requests\n",
        "url = \"https://www.yuantaetfs.com/api/StkWeights?date=&fundid=1066\"\n",
        "data = requests.get(url).json()"
      ],
      "metadata": {
        "id": "SpovXMpLeDaW"
      },
      "execution_count": 199,
      "outputs": []
    },
    {
      "cell_type": "code",
      "source": [
        "data[0]"
      ],
      "metadata": {
        "colab": {
          "base_uri": "https://localhost:8080/"
        },
        "id": "NzrYLpCmewyW",
        "outputId": "ce786a50-0526-4bb4-dfa7-b23166cc2e7b"
      },
      "execution_count": 205,
      "outputs": [
        {
          "output_type": "execute_result",
          "data": {
            "text/plain": [
              "{'code': '2330',\n",
              " 'ym': None,\n",
              " 'name': '台積電',\n",
              " 'ename': 'Taiwan Semiconductor Manufacturing Co. Ltd.',\n",
              " 'weights': 48.73,\n",
              " 'qty': 246120278.0}"
            ]
          },
          "metadata": {},
          "execution_count": 205
        }
      ]
    },
    {
      "cell_type": "code",
      "source": [
        "for i in data:\n",
        "  print(i['code'],\":\",i['name'])"
      ],
      "metadata": {
        "colab": {
          "base_uri": "https://localhost:8080/"
        },
        "id": "zgvBgkahfaoW",
        "outputId": "b43ae793-50b4-40f9-b689-b9d611acf1db"
      },
      "execution_count": 207,
      "outputs": [
        {
          "output_type": "stream",
          "name": "stdout",
          "text": [
            "2330 : 台積電\n",
            "2317 : 鴻海\n",
            "2454 : 聯發科\n",
            "2308 : 台達電\n",
            "2303 : 聯電\n",
            "2881 : 富邦金\n",
            "2412 : 中華電\n",
            "1303 : 南亞\n",
            "2891 : 中信金\n",
            "2002 : 中鋼\n",
            "2882 : 國泰金\n",
            "2886 : 兆豐金\n",
            "3711 : 日月光投控\n",
            "2884 : 玉山金\n",
            "1301 : 台塑\n",
            "5871 : 中租-KY\n",
            "1216 : 統一\n",
            "2892 : 第一金\n",
            "2885 : 元大金\n",
            "5880 : 合庫金\n",
            "1326 : 台化\n",
            "1101 : 台泥\n",
            "3008 : 大立光\n",
            "2880 : 華南金\n",
            "3034 : 聯詠\n",
            "2382 : 廣達\n",
            "6415 : 矽力*-KY\n",
            "2883 : 開發金\n",
            "2327 : 國巨\n",
            "2207 : 和泰車\n",
            "2357 : 華碩\n",
            "2887 : 台新金\n",
            "2890 : 永豐金\n",
            "1590 : 亞德客-KY\n",
            "2379 : 瑞昱\n",
            "3045 : 台灣大\n",
            "5876 : 上海商銀\n",
            "3037 : 欣興\n",
            "2912 : 統一超\n",
            "2395 : 研華\n",
            "2603 : 長榮\n",
            "1402 : 遠東新\n",
            "2801 : 彰銀\n",
            "6505 : 台塑化\n",
            "4904 : 遠傳\n",
            "2615 : 萬海\n",
            "2609 : 陽明\n",
            "9910 : 豐泰\n",
            "8046 : 南電\n",
            "2408 : 南亞科\n"
          ]
        }
      ]
    }
  ]
}